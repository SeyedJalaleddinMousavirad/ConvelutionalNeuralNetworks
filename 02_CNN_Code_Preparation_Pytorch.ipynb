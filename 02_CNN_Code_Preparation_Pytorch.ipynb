{
  "nbformat": 4,
  "nbformat_minor": 0,
  "metadata": {
    "colab": {
      "provenance": [],
      "authorship_tag": "ABX9TyObF/xcJ4h2H9zaWPteL0t2",
      "include_colab_link": true
    },
    "kernelspec": {
      "name": "python3",
      "display_name": "Python 3"
    },
    "language_info": {
      "name": "python"
    }
  },
  "cells": [
    {
      "cell_type": "markdown",
      "metadata": {
        "id": "view-in-github",
        "colab_type": "text"
      },
      "source": [
        "<a href=\"https://colab.research.google.com/github/SeyedJalaleddinMousavirad/ConvelutionalNeuralNetworks/blob/main/02_CNN_Code_Preparation_Pytorch.ipynb\" target=\"_parent\"><img src=\"https://colab.research.google.com/assets/colab-badge.svg\" alt=\"Open In Colab\"/></a>"
      ]
    },
    {
      "cell_type": "markdown",
      "source": [
        "**Convolutional Module**\n",
        "\n",
        "nn.Conv2d(in_channels=1, out_channels=32, kernel_size=3, stride=2)\n",
        "\n",
        "Main parameter is the kernel filter: (C1\\*H\\*W\\*C2)\n",
        "\n",
        "Usually H=W=K (kernel size) (usually 3)\n",
        "\n",
        "Stride--> Step Size\n",
        "\n",
        "**Inheritance**\n",
        "\n",
        "nn.Module-->the base class that all other modules inherit them\n",
        "\n",
        "nn.Linear is a nn.Module\n",
        "\n",
        "nn.ReLU is a nn.Module\n",
        "\n",
        "nn.Sequential is a nn.Module\n",
        "\n",
        "**Hierarchical Structure**\n",
        "\n",
        "model=nn.Linear #a module\n",
        "\n",
        "model=nn.Sequential # a module of modules\n",
        "\n",
        "model=somethingwewillseelater() #a module of module of modules\n",
        "\n",
        "**Custom model**\n",
        "\n",
        "Everything in Pytorch is a Module\n",
        "\n",
        "Whay if we need an operation that is not a Module?\n",
        "\n",
        "For instance: after the final Conv2D and before first dence layer, we should flatten \n",
        "\n",
        "Alternative to Flatten Layer is x.view(...) that is not a Module\n",
        "\n",
        "Therefore: we need a custom Model\n",
        "\n",
        "Here Layer=Module\n",
        "\n",
        "\n",
        "\n",
        "\n",
        "\n"
      ],
      "metadata": {
        "id": "ikvCO4j-0ZeM"
      }
    },
    {
      "cell_type": "markdown",
      "source": [
        "**ANN Review**\n",
        "\n",
        "#Build the model\n",
        "\n"
      ],
      "metadata": {
        "id": "it4AMMED5u7n"
      }
    },
    {
      "cell_type": "code",
      "execution_count": null,
      "metadata": {
        "id": "iXhIg85t0LUx"
      },
      "outputs": [],
      "source": [
        "model = nn.Sequential (\n",
        "\n",
        "  nn.Linear(784,128),\n",
        "  nn.ReLU(),\n",
        "  nn.Linear(128,10)\n",
        "\n",
        ")"
      ]
    },
    {
      "cell_type": "markdown",
      "source": [
        "**We want to make a Custom model for the above code**\n",
        "\n",
        "Inside the constructore, we should define all of our sub-module or layers"
      ],
      "metadata": {
        "id": "2Jm9b-5o6Qh_"
      }
    },
    {
      "cell_type": "code",
      "source": [
        "Class ANN(nn.Module):\n",
        "     def __init__(self):\n",
        "       super (ANN,self).__init__()\n",
        "       self.layer1=Linear (784,128)\n",
        "       self.layer2=ReLU()\n",
        "       self.layer3=Linear(128,10)\n",
        "     def forward(self,x):\n",
        "       x=self.layer1()\n",
        "       x=self.layer2()\n",
        "       x=self.layer3()\n",
        "       return x\n",
        "\n",
        "model =ANN()       \n",
        "\n"
      ],
      "metadata": {
        "id": "Jom83keI6XKi"
      },
      "execution_count": null,
      "outputs": []
    },
    {
      "cell_type": "markdown",
      "source": [
        "**CNN Custom Model (Part1)**\n",
        "\n"
      ],
      "metadata": {
        "id": "lerGVnXX9AAg"
      }
    },
    {
      "cell_type": "code",
      "source": [
        "Class CNN(nn.Module):\n",
        "  def __init__(self,K):\n",
        "    super (CNN,self).__init__()\n",
        "    #Define the Convolution Layers\n",
        "    self.conv=nn.Sequential (\n",
        "    nn.Conv2d(3,32,kernel_size=3, stride=2)\n",
        "    nn.Conv2d(32,64,kernel_size=3, stride=2)\n",
        "    nn.Conv2d(64,128,kernel_size=3, stride=2))\n",
        "\n",
        "    #Define the Linear Layers\n",
        "    self.dense = nn.Sequential (\n",
        "        nn.Linear(?,1024)\n",
        "        nn.Linear(1024,K))\n",
        "  def forward(self,X):\n",
        "    out = self.conv(X)\n",
        "    out=out.view(-1,?)\n",
        "    out=self.dense(out)\n",
        "    return out"
      ],
      "metadata": {
        "id": "QD2gFnoj9Ijq"
      },
      "execution_count": null,
      "outputs": []
    },
    {
      "cell_type": "markdown",
      "source": [
        "**How do we calculate the size of the first Linear Layer as input**"
      ],
      "metadata": {
        "id": "50R1UXfX_bIp"
      }
    },
    {
      "cell_type": "markdown",
      "source": [
        "**CNN Sequential Version**\n",
        "\n",
        "There is another method to create a CNN based on Sequential \n",
        "\n"
      ],
      "metadata": {
        "id": "B13p8HA__oSC"
      }
    },
    {
      "cell_type": "code",
      "source": [
        "model = nn.Sequential(\n",
        "        nn.Conv2d(3,32,kernel_size=3, stride=2)\n",
        "    nn.Conv2d(32,64,kernel_size=3, stride=2)\n",
        "    nn.Conv2d(64,128,kernel_size=3, stride=2)\n",
        "    nn.Flatten(),\n",
        "    nn.Linear(?,1024)\n",
        "    nn.Linear(1024,K)\n",
        "\n",
        ")"
      ],
      "metadata": {
        "id": "CHxLsXLt_UT-"
      },
      "execution_count": null,
      "outputs": []
    },
    {
      "cell_type": "markdown",
      "source": [
        "**Drop out Regularisation**\n",
        "\n",
        "You may heard L1 and L2 regularisation (not used so much in DL)\n",
        "\n",
        "Randomly drop nodes during training, so output not totally dependant on any single input\n",
        "\n",
        "nn.Dropout(p_drop)\n",
        "\n",
        "It is usually between dense layer, but not convolutions (and sometimes RNN)\n"
      ],
      "metadata": {
        "id": "TjWAgsdjAVSj"
      }
    },
    {
      "cell_type": "code",
      "source": [],
      "metadata": {
        "id": "Ehe1_4YV_zrD"
      },
      "execution_count": null,
      "outputs": []
    }
  ]
}