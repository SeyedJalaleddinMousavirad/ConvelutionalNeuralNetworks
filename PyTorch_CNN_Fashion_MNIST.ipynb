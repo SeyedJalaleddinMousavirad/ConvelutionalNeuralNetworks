{
  "nbformat": 4,
  "nbformat_minor": 0,
  "metadata": {
    "colab": {
      "name": "PyTorch CNN Fashion MNIST.ipynb",
      "provenance": [],
      "include_colab_link": true
    },
    "kernelspec": {
      "name": "python3",
      "display_name": "Python 3"
    }
  },
  "cells": [
    {
      "cell_type": "markdown",
      "metadata": {
        "id": "view-in-github",
        "colab_type": "text"
      },
      "source": [
        "<a href=\"https://colab.research.google.com/github/SeyedJalaleddinMousavirad/ConvelutionalNeuralNetworks/blob/main/PyTorch_CNN_Fashion_MNIST.ipynb\" target=\"_parent\"><img src=\"https://colab.research.google.com/assets/colab-badge.svg\" alt=\"Open In Colab\"/></a>"
      ]
    },
    {
      "cell_type": "code",
      "metadata": {
        "id": "sm1LB9tjoY7g"
      },
      "source": [
        "import torch\n",
        "import torch.nn as nn\n",
        "import torchvision\n",
        "import torchvision.transforms as transforms\n",
        "import numpy as np\n",
        "import matplotlib.pyplot as plt\n",
        "# from datetime import datetime\n",
        "\n",
        "# root is where to download the data to\n",
        "# train = true, return train dataset\n",
        "# transform does some useful preprocessing\n",
        "# download the data\n",
        "# train dataset\n",
        "train_dataset = torchvision.datasets.FashionMNIST(root='.', train=True, transform=transforms.ToTensor(), download=True)\n",
        "# test dataset\n",
        "test_dataset = torchvision.datasets.FashionMNIST(root='.', train=False, transform=transforms.ToTensor(), download=True)\n",
        "\n",
        "\n"
      ],
      "execution_count": null,
      "outputs": []
    },
    {
      "cell_type": "code",
      "metadata": {
        "colab": {
          "base_uri": "https://localhost:8080/"
        },
        "id": "tSAtI2CA37f5",
        "outputId": "2a4f2158-ade7-4324-d005-2109cf3beece"
      },
      "source": [
        "# number of classes\n",
        "K = len(set(train_dataset.targets.numpy()))\n",
        "print(\"Number of classes: \", K)\n",
        "\n",
        "\n",
        "# Define the model\n",
        "class CNN(nn.Module):\n",
        "  def __init__(self, K):\n",
        "    super(CNN, self).__init__()\n",
        "\n",
        "    self.conv_layers = nn.Sequential(\n",
        "        nn.Conv2d(in_channels=1, out_channels=32, kernel_size=3, stride=2),\n",
        "        nn.ReLU(),\n",
        "        nn.Conv2d(in_channels=32, out_channels=64, kernel_size=3, stride=2),\n",
        "        nn.ReLU(),\n",
        "        nn.Conv2d(in_channels=64, out_channels=128, kernel_size=3, stride=2),\n",
        "        nn.ReLU()\n",
        "    )\n",
        "    self.dense_layers = nn.Sequential(\n",
        "        nn.Dropout(0.2),\n",
        "        nn.Linear(128 * 2 * 2, 512),\n",
        "        nn.ReLU(),\n",
        "        nn.Dropout(0.2),\n",
        "        nn.Linear(512, K)\n",
        "    )\n",
        "    self.new_model = nn.Sequential(\n",
        "        nn.Conv2d(in_channels=1, out_channels=32, kernel_size=3, stride=2),\n",
        "        nn.ReLU(),\n",
        "        nn.Conv2d(in_channels=32, out_channels=64, kernel_size=3, stride=2),\n",
        "        nn.ReLU(),\n",
        "        nn.Conv2d(in_channels=64, out_channels=128, kernel_size=3, stride=2),\n",
        "        nn.ReLU(),\n",
        "        nn.Flatten(),\n",
        "        nn.Dropout(0.2),\n",
        "        nn.Linear(128 * 2 * 2, 512),\n",
        "        nn.ReLU(),\n",
        "        nn.Dropout(0.2),\n",
        "        nn.Linear(512, K)\n",
        "    )\n",
        "\n",
        "  def forward(self, X):\n",
        "    out = self.conv_layers(X) # Convolution layer\n",
        "    out = out.view(out.size(0), -1) # Flatten layer (-1 means auto calculate)\n",
        "    out = self.dense_layers(out) # Dense layer\n",
        "    return out\n",
        "\n",
        "# Instantiate the model\n",
        "model = CNN(K)"
      ],
      "execution_count": null,
      "outputs": [
        {
          "output_type": "stream",
          "text": [
            "Number of classes:  10\n"
          ],
          "name": "stdout"
        }
      ]
    },
    {
      "cell_type": "code",
      "metadata": {
        "colab": {
          "base_uri": "https://localhost:8080/"
        },
        "id": "hKkamTRg624S",
        "outputId": "1d9b4686-9fd5-411c-ced0-7ab3513b88c6"
      },
      "source": [
        "device = torch.device(\"cude:0\" if torch.cuda.is_available() else \"cpu\")\n",
        "print(device)\n",
        "model.to(device)\n",
        "\n",
        "# Loss and optimizer\n",
        "criterion = nn.CrossEntropyLoss() # we use this because we have multiple categories\n",
        "optimizer = torch.optim.Adam(model.parameters()) # we use Adam jus cuz\n",
        "\n",
        "# Data load\n",
        "# Useful because it automatically generates batches in the training loop\n",
        "# and takes care of the shuffling\n",
        "\n",
        "batch_size = 128\n",
        "# shuffle training data, but not test data\n",
        "# we dont want correlations between the data\n",
        "# no need to shuffle test data\n",
        "train_loader = torch.utils.data.DataLoader(dataset=train_dataset, batch_size=batch_size, shuffle=True)\n",
        "test_loader = torch.utils.data.DataLoader(dataset=test_dataset, batch_size=batch_size, shuffle=False)"
      ],
      "execution_count": null,
      "outputs": [
        {
          "output_type": "stream",
          "text": [
            "cpu\n"
          ],
          "name": "stdout"
        }
      ]
    },
    {
      "cell_type": "code",
      "metadata": {
        "id": "53gDGGCi7hxO"
      },
      "source": [
        "#!/usr/bin/python\n",
        "# -*- coding: utf-8 -*-\n",
        "from timeit import default_timer as timer\n",
        "import sys\n",
        "def batch_gd(model, criterion, optimizer, train_loader, test_loader, epochs):\n",
        "\n",
        "  # Stuff to store\n",
        "  train_losses = np.zeros(epochs)\n",
        "  test_losses = np.zeros(epochs)\n",
        "\n",
        "  for it in range(epochs):\n",
        "    start = timer()\n",
        "    train_loss = []\n",
        "    for inputs, targets in train_loader:\n",
        "      # Move data to GPU if device is GPU\n",
        "      inputs, targets = inputs.to(device), targets.to(device)\n",
        "      \n",
        "      # Zero the parameter gradients\n",
        "      optimizer.zero_grad()\n",
        "\n",
        "      # Forward pass\n",
        "      outputs = model(inputs)\n",
        "      loss = criterion(outputs, targets)\n",
        "\n",
        "      # Backward and Optimize\n",
        "      loss.backward()\n",
        "      optimizer.step()\n",
        "\n",
        "      train_loss.append(loss.item())\n",
        " \n",
        "    \n",
        "    # Get the train loss and test loss\n",
        "    train_loss = np.mean(train_loss)  # a little misleading\n",
        "\n",
        "    # test loss\n",
        "    # same as train loop, except for backward and optimizer steps\n",
        "\n",
        "    test_loss = []\n",
        "    for inputs, targets in test_loader:\n",
        "      # inputs, targets = inputs.to(device), targets.to(device)\n",
        "      outputs = model(inputs)\n",
        "      loss = criterion(outputs, targets)\n",
        "      test_loss.append(loss.item())\n",
        "\n",
        "    test_loss = np.mean(test_loss)\n",
        "\n",
        "    # Save losses\n",
        "    train_losses[it] = train_loss\n",
        "    test_losses[it] = test_loss\n",
        "\n",
        "    print(f'Epoch {it+1}/{epochs}, Train Loss: {train_loss:.4f}, Test Loss: {test_loss:.4f}')\n",
        "    end = timer()\n",
        "    duration = \"{:.2f}\".format(end - start)\n",
        "    print('Duration: ' + str(duration)) # Time in seconds, e.g. 5.38091952400282\n",
        "  return train_losses, test_losses\n",
        "\n",
        "\n"
      ],
      "execution_count": null,
      "outputs": []
    },
    {
      "cell_type": "code",
      "metadata": {
        "colab": {
          "base_uri": "https://localhost:8080/",
          "height": 1000
        },
        "id": "lMIYS4v2BAMD",
        "outputId": "b84220b4-91e1-418f-d599-b4bdedc79605"
      },
      "source": [
        "train_losses, test_losses = batch_gd(model, criterion, optimizer, train_loader, test_loader, epochs=25)\n",
        "\n",
        "# Plot the train loss and test loss per iteration\n",
        "plt.plot(train_losses, label='train loss')\n",
        "plt.plot(test_losses, label='test loss')\n",
        "plt.legend()\n",
        "plt.show()"
      ],
      "execution_count": null,
      "outputs": [
        {
          "output_type": "stream",
          "text": [
            "Epoch 1/25, Train Loss: 0.2810, Test Loss: 0.3176\n",
            "Duration: 31.04\n",
            "Epoch 2/25, Train Loss: 0.2635, Test Loss: 0.3134\n",
            "Duration: 30.49\n",
            "Epoch 3/25, Train Loss: 0.2482, Test Loss: 0.3045\n",
            "Duration: 30.35\n",
            "Epoch 4/25, Train Loss: 0.2344, Test Loss: 0.3025\n",
            "Duration: 30.87\n",
            "Epoch 5/25, Train Loss: 0.2179, Test Loss: 0.3046\n",
            "Duration: 31.06\n",
            "Epoch 6/25, Train Loss: 0.2088, Test Loss: 0.3111\n",
            "Duration: 30.28\n",
            "Epoch 7/25, Train Loss: 0.1942, Test Loss: 0.3100\n",
            "Duration: 30.51\n",
            "Epoch 8/25, Train Loss: 0.1851, Test Loss: 0.3063\n",
            "Duration: 30.62\n",
            "Epoch 9/25, Train Loss: 0.1709, Test Loss: 0.3318\n",
            "Duration: 30.49\n",
            "Epoch 10/25, Train Loss: 0.1655, Test Loss: 0.3143\n",
            "Duration: 30.22\n",
            "Epoch 11/25, Train Loss: 0.1585, Test Loss: 0.3226\n",
            "Duration: 30.52\n",
            "Epoch 12/25, Train Loss: 0.1444, Test Loss: 0.3425\n",
            "Duration: 30.32\n",
            "Epoch 13/25, Train Loss: 0.1422, Test Loss: 0.3320\n",
            "Duration: 30.55\n",
            "Epoch 14/25, Train Loss: 0.1308, Test Loss: 0.3455\n",
            "Duration: 30.54\n",
            "Epoch 15/25, Train Loss: 0.1239, Test Loss: 0.3747\n",
            "Duration: 30.08\n",
            "Epoch 16/25, Train Loss: 0.1183, Test Loss: 0.3731\n",
            "Duration: 30.33\n",
            "Epoch 17/25, Train Loss: 0.1122, Test Loss: 0.3740\n",
            "Duration: 30.36\n",
            "Epoch 18/25, Train Loss: 0.1061, Test Loss: 0.3998\n",
            "Duration: 30.30\n",
            "Epoch 19/25, Train Loss: 0.1029, Test Loss: 0.3904\n",
            "Duration: 30.52\n",
            "Epoch 20/25, Train Loss: 0.0979, Test Loss: 0.4010\n",
            "Duration: 30.54\n",
            "Epoch 21/25, Train Loss: 0.0958, Test Loss: 0.4079\n",
            "Duration: 30.66\n",
            "Epoch 22/25, Train Loss: 0.0906, Test Loss: 0.4207\n",
            "Duration: 30.01\n",
            "Epoch 23/25, Train Loss: 0.0857, Test Loss: 0.4246\n",
            "Duration: 30.33\n",
            "Epoch 24/25, Train Loss: 0.0818, Test Loss: 0.4466\n",
            "Duration: 30.63\n",
            "Epoch 25/25, Train Loss: 0.0796, Test Loss: 0.4828\n",
            "Duration: 30.33\n"
          ],
          "name": "stdout"
        },
        {
          "output_type": "display_data",
          "data": {
            "image/png": "[encoded data removed]",
            "text/plain": [
              "<Figure size 432x288 with 1 Axes>"
            ]
          },
          "metadata": {
            "tags": [],
            "needs_background": "light"
          }
        }
      ]
    },
    {
      "cell_type": "code",
      "metadata": {
        "colab": {
          "base_uri": "https://localhost:8080/"
        },
        "id": "NeF2k7x8Iqpy",
        "outputId": "0c44ffc9-87fe-4501-b12a-fd2278f0d192"
      },
      "source": [
        "# Calculate the accuracy\n",
        "\n",
        "# train accuracy\n",
        "n_correct = 0\n",
        "n_total = 0\n",
        "for inputs, targets in train_loader:\n",
        "  # move data to GPU\n",
        "  # inputs, targets = inputs.to(device), targets.to(device)\n",
        "\n",
        "  # forward pass\n",
        "  outputs = model(inputs)\n",
        "\n",
        "  # get the prediction\n",
        "  # torch.max returns both max and argmax\n",
        "  _, predictions = torch.max(outputs, 1)\n",
        "\n",
        "  # update counts\n",
        "  n_correct += (predictions == targets).sum().item()\n",
        "  n_total += targets.shape[0]\n",
        "\n",
        "train_acc = n_correct / n_total\n",
        "\n",
        "# test accuracy\n",
        "n_correct = 0\n",
        "n_total = 0\n",
        "for inputs, targets in test_loader:\n",
        "  # move data to GPU\n",
        "  # inputs, targets = inputs.to(device), targets.to(device)\n",
        "\n",
        "  # forward pass\n",
        "  outputs = model(inputs)\n",
        "\n",
        "  # get the prediction\n",
        "  # torch.max returns both max and argmax\n",
        "  _, predictions = torch.max(outputs, 1)\n",
        "\n",
        "  # update counts\n",
        "  n_correct += (predictions == targets).sum().item()\n",
        "  n_total += targets.shape[0]\n",
        "\n",
        "test_acc = n_correct / n_total\n",
        "\n",
        "\n",
        "print(f'Train Accuracy: {train_acc:.4f}, Test Accuracy: {test_acc:.4f}')"
      ],
      "execution_count": null,
      "outputs": [
        {
          "output_type": "stream",
          "text": [
            "Train Accuracy: 0.9654, Test Accuracy: 0.8898\n"
          ],
          "name": "stdout"
        }
      ]
    },
    {
      "cell_type": "code",
      "metadata": {
        "colab": {
          "base_uri": "https://localhost:8080/",
          "height": 498
        },
        "id": "fuxPcaU3J1Pv",
        "outputId": "a5e77e05-89da-4534-d5ca-ca6445f4295b"
      },
      "source": [
        "# Plot confusion matrix\n",
        "from sklearn.metrics import confusion_matrix\n",
        "import numpy as np\n",
        "import itertools\n",
        "\n",
        "def plot_confusion_matrix(cm, classes, normalize=False, title='Confusion Matrix', cmap=plt.cm.Blues):\n",
        "  \"\"\"\n",
        "  The function prints and plots the confusion matrix.\n",
        "  Normalization can be applied by setting 'normalize=True'\n",
        "  \"\"\"\n",
        "\n",
        "  if normalize:\n",
        "    cm = cm.astype('float') / cm.sum(axis=1)[:, np.newaxis]\n",
        "    print(\"Normalized confusion matrix\")\n",
        "\n",
        "  else:\n",
        "    print('Confusion matrix, without normalization')\n",
        "\n",
        "  print(cm)\n",
        "\n",
        "  plt.imshow(cm, interpolation='nearest', cmap=cmap)\n",
        "  plt.title(title)\n",
        "  plt.colorbar()\n",
        "  tick_marks = np.arange(len(classes))\n",
        "  plt.xticks(tick_marks, classes, rotation=45)\n",
        "  plt.yticks(tick_marks, classes)\n",
        "\n",
        "  fmt = '.2f' if normalize else 'd'\n",
        "\n",
        "  thresh = cm.max() / 2\n",
        "  for i, j in itertools.product(range(cm.shape[0]), range(cm.shape[1])):\n",
        "    plt.text(j, i, format(cm[i, j], fmt), horizontalalignment=\"center\", color=\"white\" if cm[i, j] > thresh else \"black\")\n",
        "\n",
        "  plt.tight_layout()\n",
        "  plt.ylabel('True label')\n",
        "  plt.xlabel('Predicted label')\n",
        "  plt.show()\n",
        "\n",
        "# get all predictions in an array and plot confusion matrix\n",
        "x_test = test_dataset.data.numpy()\n",
        "y_test = test_dataset.targets.numpy()\n",
        "p_test = np.array([])\n",
        "for inputs, targets in test_loader:\n",
        "  # move data to GPU\n",
        "  # inputs, targets = inputs.to(device), targets.to(device)\n",
        "\n",
        "  # forward pass\n",
        "  outputs = model(inputs)\n",
        "\n",
        "  # get the prediction\n",
        "  #torch.max returns both max and argmax\n",
        "  _, predictions = torch.max(outputs, 1)\n",
        "\n",
        "  # update p_test\n",
        "  p_test = np.concatenate((p_test, predictions.cpu().numpy()))\n",
        "\n",
        "cm = confusion_matrix(y_test, p_test)\n",
        "plot_confusion_matrix(cm, list(range(10)))"
      ],
      "execution_count": null,
      "outputs": [
        {
          "output_type": "stream",
          "text": [
            "Confusion matrix, without normalization\n",
            "[[826   2  31  34   1   1  91   0  14   0]\n",
            " [  1 971   0  20   2   0   4   0   2   0]\n",
            " [ 12   2 841   9  55   0  76   0   5   0]\n",
            " [ 18   2  22 921  12   0  24   0   1   0]\n",
            " [  0   1  88  50 762   0  95   0   4   0]\n",
            " [  0   0   0   2   0 966   0  23   1   8]\n",
            " [149   0  93  38  95   0 608   0  17   0]\n",
            " [  0   0   0   0   0  19   0 939   0  42]\n",
            " [  1   0   4   4   3   5   3   2 978   0]\n",
            " [  1   0   0   0   0   6   0  30   0 963]]\n"
          ],
          "name": "stdout"
        },
        {
          "output_type": "display_data",
          "data": {
            "image/png": "[encoded data removed]",
            "text/plain": [
              "<Figure size 432x288 with 2 Axes>"
            ]
          },
          "metadata": {
            "tags": [],
            "needs_background": "light"
          }
        }
      ]
    },
    {
      "cell_type": "code",
      "metadata": {
        "colab": {
          "base_uri": "https://localhost:8080/",
          "height": 298
        },
        "id": "OwaMl5DjJ0En",
        "outputId": "2288b35a-837a-4b76-dd1a-3b8ad2594259"
      },
      "source": [
        "# show some misclassified examples\n",
        "misclassified_idx = np.where(p_test != y_test)[0]\n",
        "i = np.random.choice(misclassified_idx)\n",
        "plt.imshow(x_test[i], cmap='gray')\n",
        "plt.title(\"True label: %s Predicted: %s\" % (y_test[i], int(p_test[i])))"
      ],
      "execution_count": null,
      "outputs": [
        {
          "output_type": "execute_result",
          "data": {
            "text/plain": [
              "Text(0.5, 1.0, 'True label: 2 Predicted: 4')"
            ]
          },
          "metadata": {
            "tags": []
          },
          "execution_count": 71
        },
        {
          "output_type": "display_data",
          "data": {
            "image/png": "[encoded data removed]",
            "text/plain": [
              "<Figure size 432x288 with 1 Axes>"
            ]
          },
          "metadata": {
            "tags": [],
            "needs_background": "light"
          }
        }
      ]
    }
  ]
}